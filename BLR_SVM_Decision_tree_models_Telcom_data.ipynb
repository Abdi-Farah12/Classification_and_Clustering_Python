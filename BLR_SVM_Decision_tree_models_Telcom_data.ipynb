{
 "cells": [
  {
   "cell_type": "markdown",
   "id": "4b8681c7",
   "metadata": {},
   "source": [
    "## Building BLR, SVM and Decision Tree model using Telcom data.\n",
    "\n",
    "We will identify the best model to predict customer churn"
   ]
  },
  {
   "cell_type": "code",
   "execution_count": 1,
   "id": "202052c1",
   "metadata": {},
   "outputs": [],
   "source": [
    "import pandas as pd\n",
    "import numpy as np"
   ]
  },
  {
   "cell_type": "code",
   "execution_count": 2,
   "id": "07130b0a",
   "metadata": {},
   "outputs": [
    {
     "data": {
      "text/html": [
       "<div>\n",
       "<style scoped>\n",
       "    .dataframe tbody tr th:only-of-type {\n",
       "        vertical-align: middle;\n",
       "    }\n",
       "\n",
       "    .dataframe tbody tr th {\n",
       "        vertical-align: top;\n",
       "    }\n",
       "\n",
       "    .dataframe thead th {\n",
       "        text-align: right;\n",
       "    }\n",
       "</style>\n",
       "<table border=\"1\" class=\"dataframe\">\n",
       "  <thead>\n",
       "    <tr style=\"text-align: right;\">\n",
       "      <th></th>\n",
       "      <th>Age</th>\n",
       "      <th>Occupation</th>\n",
       "      <th>Status</th>\n",
       "      <th>Edu</th>\n",
       "      <th>House</th>\n",
       "      <th>Loan</th>\n",
       "      <th>Comm</th>\n",
       "      <th>Month</th>\n",
       "      <th>DOW</th>\n",
       "      <th>Duration</th>\n",
       "      <th>Campaign</th>\n",
       "      <th>PosDays</th>\n",
       "      <th>Last_out</th>\n",
       "      <th>Var_rate</th>\n",
       "      <th>Price_idx</th>\n",
       "      <th>Conf_idx</th>\n",
       "      <th>Month_rate</th>\n",
       "      <th>Quarterly_emp</th>\n",
       "      <th>Target</th>\n",
       "    </tr>\n",
       "  </thead>\n",
       "  <tbody>\n",
       "    <tr>\n",
       "      <th>0</th>\n",
       "      <td>44</td>\n",
       "      <td>blue-collar</td>\n",
       "      <td>married</td>\n",
       "      <td>basic.4y</td>\n",
       "      <td>yes</td>\n",
       "      <td>no</td>\n",
       "      <td>cellular</td>\n",
       "      <td>aug</td>\n",
       "      <td>thu</td>\n",
       "      <td>210</td>\n",
       "      <td>1</td>\n",
       "      <td>999</td>\n",
       "      <td>nonexistent</td>\n",
       "      <td>1.4</td>\n",
       "      <td>93.444</td>\n",
       "      <td>-36.1</td>\n",
       "      <td>4.963</td>\n",
       "      <td>5228.1</td>\n",
       "      <td>0</td>\n",
       "    </tr>\n",
       "    <tr>\n",
       "      <th>1</th>\n",
       "      <td>53</td>\n",
       "      <td>technician</td>\n",
       "      <td>married</td>\n",
       "      <td>unknown</td>\n",
       "      <td>no</td>\n",
       "      <td>no</td>\n",
       "      <td>cellular</td>\n",
       "      <td>nov</td>\n",
       "      <td>fri</td>\n",
       "      <td>138</td>\n",
       "      <td>1</td>\n",
       "      <td>999</td>\n",
       "      <td>nonexistent</td>\n",
       "      <td>-0.1</td>\n",
       "      <td>93.200</td>\n",
       "      <td>-42.0</td>\n",
       "      <td>4.021</td>\n",
       "      <td>5195.8</td>\n",
       "      <td>0</td>\n",
       "    </tr>\n",
       "    <tr>\n",
       "      <th>2</th>\n",
       "      <td>28</td>\n",
       "      <td>management</td>\n",
       "      <td>single</td>\n",
       "      <td>university.degree</td>\n",
       "      <td>yes</td>\n",
       "      <td>no</td>\n",
       "      <td>cellular</td>\n",
       "      <td>jun</td>\n",
       "      <td>thu</td>\n",
       "      <td>339</td>\n",
       "      <td>3</td>\n",
       "      <td>6</td>\n",
       "      <td>success</td>\n",
       "      <td>-1.7</td>\n",
       "      <td>94.055</td>\n",
       "      <td>-39.8</td>\n",
       "      <td>0.729</td>\n",
       "      <td>4991.6</td>\n",
       "      <td>1</td>\n",
       "    </tr>\n",
       "    <tr>\n",
       "      <th>3</th>\n",
       "      <td>39</td>\n",
       "      <td>services</td>\n",
       "      <td>married</td>\n",
       "      <td>high.school</td>\n",
       "      <td>no</td>\n",
       "      <td>no</td>\n",
       "      <td>cellular</td>\n",
       "      <td>apr</td>\n",
       "      <td>fri</td>\n",
       "      <td>185</td>\n",
       "      <td>2</td>\n",
       "      <td>999</td>\n",
       "      <td>nonexistent</td>\n",
       "      <td>-1.8</td>\n",
       "      <td>93.075</td>\n",
       "      <td>-47.1</td>\n",
       "      <td>1.405</td>\n",
       "      <td>5099.1</td>\n",
       "      <td>0</td>\n",
       "    </tr>\n",
       "    <tr>\n",
       "      <th>4</th>\n",
       "      <td>55</td>\n",
       "      <td>retired</td>\n",
       "      <td>married</td>\n",
       "      <td>basic.4y</td>\n",
       "      <td>yes</td>\n",
       "      <td>no</td>\n",
       "      <td>cellular</td>\n",
       "      <td>aug</td>\n",
       "      <td>fri</td>\n",
       "      <td>137</td>\n",
       "      <td>1</td>\n",
       "      <td>3</td>\n",
       "      <td>success</td>\n",
       "      <td>-2.9</td>\n",
       "      <td>92.201</td>\n",
       "      <td>-31.4</td>\n",
       "      <td>0.869</td>\n",
       "      <td>5076.2</td>\n",
       "      <td>1</td>\n",
       "    </tr>\n",
       "  </tbody>\n",
       "</table>\n",
       "</div>"
      ],
      "text/plain": [
       "   Age   Occupation   Status                Edu House Loan      Comm Month  \\\n",
       "0   44  blue-collar  married           basic.4y   yes   no  cellular   aug   \n",
       "1   53   technician  married            unknown    no   no  cellular   nov   \n",
       "2   28   management   single  university.degree   yes   no  cellular   jun   \n",
       "3   39     services  married        high.school    no   no  cellular   apr   \n",
       "4   55      retired  married           basic.4y   yes   no  cellular   aug   \n",
       "\n",
       "   DOW  Duration  Campaign  PosDays     Last_out  Var_rate  Price_idx  \\\n",
       "0  thu       210         1      999  nonexistent       1.4     93.444   \n",
       "1  fri       138         1      999  nonexistent      -0.1     93.200   \n",
       "2  thu       339         3        6      success      -1.7     94.055   \n",
       "3  fri       185         2      999  nonexistent      -1.8     93.075   \n",
       "4  fri       137         1        3      success      -2.9     92.201   \n",
       "\n",
       "   Conf_idx  Month_rate  Quarterly_emp  Target  \n",
       "0     -36.1       4.963         5228.1       0  \n",
       "1     -42.0       4.021         5195.8       0  \n",
       "2     -39.8       0.729         4991.6       1  \n",
       "3     -47.1       1.405         5099.1       0  \n",
       "4     -31.4       0.869         5076.2       1  "
      ]
     },
     "execution_count": 2,
     "metadata": {},
     "output_type": "execute_result"
    }
   ],
   "source": [
    "# [4] Read the provided CSV file/data set.\n",
    "df = pd.read_csv(\"Customer_data.csv\") \n",
    "\n",
    "# [5] Print the table.\n",
    "df.head()  "
   ]
  },
  {
   "cell_type": "code",
   "execution_count": 3,
   "id": "38474747",
   "metadata": {},
   "outputs": [
    {
     "name": "stdout",
     "output_type": "stream",
     "text": [
      "<class 'pandas.core.frame.DataFrame'>\n",
      "RangeIndex: 41188 entries, 0 to 41187\n",
      "Data columns (total 19 columns):\n",
      " #   Column         Non-Null Count  Dtype  \n",
      "---  ------         --------------  -----  \n",
      " 0   Age            41188 non-null  int64  \n",
      " 1   Occupation     41188 non-null  object \n",
      " 2   Status         41188 non-null  object \n",
      " 3   Edu            41188 non-null  object \n",
      " 4   House          41188 non-null  object \n",
      " 5   Loan           41188 non-null  object \n",
      " 6   Comm           41188 non-null  object \n",
      " 7   Month          41188 non-null  object \n",
      " 8   DOW            41188 non-null  object \n",
      " 9   Duration       41188 non-null  int64  \n",
      " 10  Campaign       41188 non-null  int64  \n",
      " 11  PosDays        41188 non-null  int64  \n",
      " 12  Last_out       41188 non-null  object \n",
      " 13  Var_rate       41188 non-null  float64\n",
      " 14  Price_idx      41188 non-null  float64\n",
      " 15  Conf_idx       41188 non-null  float64\n",
      " 16  Month_rate     41188 non-null  float64\n",
      " 17  Quarterly_emp  41188 non-null  float64\n",
      " 18  Target         41188 non-null  int64  \n",
      "dtypes: float64(5), int64(5), object(9)\n",
      "memory usage: 6.0+ MB\n"
     ]
    }
   ],
   "source": [
    "\n",
    "df.info()"
   ]
  },
  {
   "cell_type": "code",
   "execution_count": 4,
   "id": "e57316aa",
   "metadata": {},
   "outputs": [
    {
     "data": {
      "text/plain": [
       "array(['basic.4y', 'unknown', 'university.degree', 'high.school',\n",
       "       'basic.9y', 'professional.course', 'basic.6y', 'illiterate'],\n",
       "      dtype=object)"
      ]
     },
     "execution_count": 4,
     "metadata": {},
     "output_type": "execute_result"
    }
   ],
   "source": [
    "df['Edu'].unique()"
   ]
  },
  {
   "cell_type": "code",
   "execution_count": 5,
   "id": "852bad78",
   "metadata": {},
   "outputs": [
    {
     "data": {
      "text/plain": [
       "array(['pre-school', 'other', 'uni', 'high-school', 'masters'],\n",
       "      dtype=object)"
      ]
     },
     "execution_count": 5,
     "metadata": {},
     "output_type": "execute_result"
    }
   ],
   "source": [
    "# convert Edu column to single word \n",
    "\n",
    "df.loc[df['Edu'].str.contains('basic'), 'Edu'] = 'pre-school'\n",
    "df.loc[df['Edu'].str.contains('professional'), 'Edu'] = 'masters'\n",
    "df.loc[df['Edu'].str.contains('high'), 'Edu'] = 'high-school'\n",
    "df.loc[df['Edu'].str.contains('illi'), 'Edu'] = 'other'\n",
    "df.loc[df['Edu'].str.contains('unknown'), 'Edu'] = 'other'\n",
    "df.loc[df['Edu'].str.contains('university'), 'Edu'] = 'uni'\n",
    "\n",
    "df['Edu'].unique()"
   ]
  },
  {
   "cell_type": "markdown",
   "id": "00142809",
   "metadata": {},
   "source": [
    "### Dummy variables for categorical columns"
   ]
  },
  {
   "cell_type": "code",
   "execution_count": 6,
   "id": "2f83fa39",
   "metadata": {},
   "outputs": [
    {
     "data": {
      "text/plain": [
       "Index(['Age', 'Occupation', 'Status', 'Edu', 'House', 'Loan', 'Comm', 'Month',\n",
       "       'DOW', 'Duration', 'Campaign', 'PosDays', 'Last_out', 'Var_rate',\n",
       "       'Price_idx', 'Conf_idx', 'Month_rate', 'Quarterly_emp', 'Target'],\n",
       "      dtype='object')"
      ]
     },
     "execution_count": 6,
     "metadata": {},
     "output_type": "execute_result"
    }
   ],
   "source": [
    "df.columns"
   ]
  },
  {
   "cell_type": "code",
   "execution_count": 7,
   "id": "f8c75cb8",
   "metadata": {},
   "outputs": [
    {
     "data": {
      "text/html": [
       "<div>\n",
       "<style scoped>\n",
       "    .dataframe tbody tr th:only-of-type {\n",
       "        vertical-align: middle;\n",
       "    }\n",
       "\n",
       "    .dataframe tbody tr th {\n",
       "        vertical-align: top;\n",
       "    }\n",
       "\n",
       "    .dataframe thead th {\n",
       "        text-align: right;\n",
       "    }\n",
       "</style>\n",
       "<table border=\"1\" class=\"dataframe\">\n",
       "  <thead>\n",
       "    <tr style=\"text-align: right;\">\n",
       "      <th></th>\n",
       "      <th>Age</th>\n",
       "      <th>Duration</th>\n",
       "      <th>Campaign</th>\n",
       "      <th>PosDays</th>\n",
       "      <th>Var_rate</th>\n",
       "      <th>Price_idx</th>\n",
       "      <th>Conf_idx</th>\n",
       "      <th>Month_rate</th>\n",
       "      <th>Quarterly_emp</th>\n",
       "      <th>Target</th>\n",
       "      <th>...</th>\n",
       "      <th>Month_oct</th>\n",
       "      <th>Month_sep</th>\n",
       "      <th>DOW_fri</th>\n",
       "      <th>DOW_mon</th>\n",
       "      <th>DOW_thu</th>\n",
       "      <th>DOW_tue</th>\n",
       "      <th>DOW_wed</th>\n",
       "      <th>Last_out_failure</th>\n",
       "      <th>Last_out_nonexistent</th>\n",
       "      <th>Last_out_success</th>\n",
       "    </tr>\n",
       "  </thead>\n",
       "  <tbody>\n",
       "    <tr>\n",
       "      <th>0</th>\n",
       "      <td>44</td>\n",
       "      <td>210</td>\n",
       "      <td>1</td>\n",
       "      <td>999</td>\n",
       "      <td>1.4</td>\n",
       "      <td>93.444</td>\n",
       "      <td>-36.1</td>\n",
       "      <td>4.963</td>\n",
       "      <td>5228.1</td>\n",
       "      <td>0</td>\n",
       "      <td>...</td>\n",
       "      <td>0</td>\n",
       "      <td>0</td>\n",
       "      <td>0</td>\n",
       "      <td>0</td>\n",
       "      <td>1</td>\n",
       "      <td>0</td>\n",
       "      <td>0</td>\n",
       "      <td>0</td>\n",
       "      <td>1</td>\n",
       "      <td>0</td>\n",
       "    </tr>\n",
       "    <tr>\n",
       "      <th>1</th>\n",
       "      <td>53</td>\n",
       "      <td>138</td>\n",
       "      <td>1</td>\n",
       "      <td>999</td>\n",
       "      <td>-0.1</td>\n",
       "      <td>93.200</td>\n",
       "      <td>-42.0</td>\n",
       "      <td>4.021</td>\n",
       "      <td>5195.8</td>\n",
       "      <td>0</td>\n",
       "      <td>...</td>\n",
       "      <td>0</td>\n",
       "      <td>0</td>\n",
       "      <td>1</td>\n",
       "      <td>0</td>\n",
       "      <td>0</td>\n",
       "      <td>0</td>\n",
       "      <td>0</td>\n",
       "      <td>0</td>\n",
       "      <td>1</td>\n",
       "      <td>0</td>\n",
       "    </tr>\n",
       "    <tr>\n",
       "      <th>2</th>\n",
       "      <td>28</td>\n",
       "      <td>339</td>\n",
       "      <td>3</td>\n",
       "      <td>6</td>\n",
       "      <td>-1.7</td>\n",
       "      <td>94.055</td>\n",
       "      <td>-39.8</td>\n",
       "      <td>0.729</td>\n",
       "      <td>4991.6</td>\n",
       "      <td>1</td>\n",
       "      <td>...</td>\n",
       "      <td>0</td>\n",
       "      <td>0</td>\n",
       "      <td>0</td>\n",
       "      <td>0</td>\n",
       "      <td>1</td>\n",
       "      <td>0</td>\n",
       "      <td>0</td>\n",
       "      <td>0</td>\n",
       "      <td>0</td>\n",
       "      <td>1</td>\n",
       "    </tr>\n",
       "    <tr>\n",
       "      <th>3</th>\n",
       "      <td>39</td>\n",
       "      <td>185</td>\n",
       "      <td>2</td>\n",
       "      <td>999</td>\n",
       "      <td>-1.8</td>\n",
       "      <td>93.075</td>\n",
       "      <td>-47.1</td>\n",
       "      <td>1.405</td>\n",
       "      <td>5099.1</td>\n",
       "      <td>0</td>\n",
       "      <td>...</td>\n",
       "      <td>0</td>\n",
       "      <td>0</td>\n",
       "      <td>1</td>\n",
       "      <td>0</td>\n",
       "      <td>0</td>\n",
       "      <td>0</td>\n",
       "      <td>0</td>\n",
       "      <td>0</td>\n",
       "      <td>1</td>\n",
       "      <td>0</td>\n",
       "    </tr>\n",
       "    <tr>\n",
       "      <th>4</th>\n",
       "      <td>55</td>\n",
       "      <td>137</td>\n",
       "      <td>1</td>\n",
       "      <td>3</td>\n",
       "      <td>-2.9</td>\n",
       "      <td>92.201</td>\n",
       "      <td>-31.4</td>\n",
       "      <td>0.869</td>\n",
       "      <td>5076.2</td>\n",
       "      <td>1</td>\n",
       "      <td>...</td>\n",
       "      <td>0</td>\n",
       "      <td>0</td>\n",
       "      <td>1</td>\n",
       "      <td>0</td>\n",
       "      <td>0</td>\n",
       "      <td>0</td>\n",
       "      <td>0</td>\n",
       "      <td>0</td>\n",
       "      <td>0</td>\n",
       "      <td>1</td>\n",
       "    </tr>\n",
       "  </tbody>\n",
       "</table>\n",
       "<p>5 rows × 57 columns</p>\n",
       "</div>"
      ],
      "text/plain": [
       "   Age  Duration  Campaign  PosDays  Var_rate  Price_idx  Conf_idx  \\\n",
       "0   44       210         1      999       1.4     93.444     -36.1   \n",
       "1   53       138         1      999      -0.1     93.200     -42.0   \n",
       "2   28       339         3        6      -1.7     94.055     -39.8   \n",
       "3   39       185         2      999      -1.8     93.075     -47.1   \n",
       "4   55       137         1        3      -2.9     92.201     -31.4   \n",
       "\n",
       "   Month_rate  Quarterly_emp  Target  ...  Month_oct  Month_sep  DOW_fri  \\\n",
       "0       4.963         5228.1       0  ...          0          0        0   \n",
       "1       4.021         5195.8       0  ...          0          0        1   \n",
       "2       0.729         4991.6       1  ...          0          0        0   \n",
       "3       1.405         5099.1       0  ...          0          0        1   \n",
       "4       0.869         5076.2       1  ...          0          0        1   \n",
       "\n",
       "   DOW_mon  DOW_thu  DOW_tue  DOW_wed  Last_out_failure  Last_out_nonexistent  \\\n",
       "0        0        1        0        0                 0                     1   \n",
       "1        0        0        0        0                 0                     1   \n",
       "2        0        1        0        0                 0                     0   \n",
       "3        0        0        0        0                 0                     1   \n",
       "4        0        0        0        0                 0                     0   \n",
       "\n",
       "   Last_out_success  \n",
       "0                 0  \n",
       "1                 0  \n",
       "2                 1  \n",
       "3                 0  \n",
       "4                 1  \n",
       "\n",
       "[5 rows x 57 columns]"
      ]
     },
     "execution_count": 7,
     "metadata": {},
     "output_type": "execute_result"
    }
   ],
   "source": [
    "features = ['Occupation', 'Status', 'Edu', 'House', 'Loan', 'Comm', 'Month',\n",
    "       'DOW', 'Last_out']\n",
    "\n",
    "new_df = pd.get_dummies(df, columns = features)\n",
    "\n",
    "new_df.head()"
   ]
  },
  {
   "cell_type": "markdown",
   "id": "08d7e3ec",
   "metadata": {},
   "source": [
    "## Balance the data"
   ]
  },
  {
   "cell_type": "code",
   "execution_count": 8,
   "id": "850a74e7",
   "metadata": {},
   "outputs": [
    {
     "data": {
      "text/plain": [
       "0    36548\n",
       "1     4640\n",
       "Name: Target, dtype: int64"
      ]
     },
     "execution_count": 8,
     "metadata": {},
     "output_type": "execute_result"
    }
   ],
   "source": [
    "# Determine if values in a column are balanced.\n",
    "df['Target'].value_counts()  "
   ]
  },
  {
   "cell_type": "code",
   "execution_count": 9,
   "id": "75c6c40f",
   "metadata": {},
   "outputs": [
    {
     "name": "stdout",
     "output_type": "stream",
     "text": [
      "length of resampled data is 21962\n"
     ]
    },
    {
     "data": {
      "text/html": [
       "<div>\n",
       "<style scoped>\n",
       "    .dataframe tbody tr th:only-of-type {\n",
       "        vertical-align: middle;\n",
       "    }\n",
       "\n",
       "    .dataframe tbody tr th {\n",
       "        vertical-align: top;\n",
       "    }\n",
       "\n",
       "    .dataframe thead th {\n",
       "        text-align: right;\n",
       "    }\n",
       "</style>\n",
       "<table border=\"1\" class=\"dataframe\">\n",
       "  <thead>\n",
       "    <tr style=\"text-align: right;\">\n",
       "      <th></th>\n",
       "      <th>Target</th>\n",
       "    </tr>\n",
       "  </thead>\n",
       "  <tbody>\n",
       "    <tr>\n",
       "      <th>0</th>\n",
       "      <td>0</td>\n",
       "    </tr>\n",
       "    <tr>\n",
       "      <th>1</th>\n",
       "      <td>0</td>\n",
       "    </tr>\n",
       "    <tr>\n",
       "      <th>2</th>\n",
       "      <td>0</td>\n",
       "    </tr>\n",
       "    <tr>\n",
       "      <th>3</th>\n",
       "      <td>0</td>\n",
       "    </tr>\n",
       "    <tr>\n",
       "      <th>4</th>\n",
       "      <td>0</td>\n",
       "    </tr>\n",
       "    <tr>\n",
       "      <th>...</th>\n",
       "      <td>...</td>\n",
       "    </tr>\n",
       "    <tr>\n",
       "      <th>21957</th>\n",
       "      <td>1</td>\n",
       "    </tr>\n",
       "    <tr>\n",
       "      <th>21958</th>\n",
       "      <td>1</td>\n",
       "    </tr>\n",
       "    <tr>\n",
       "      <th>21959</th>\n",
       "      <td>1</td>\n",
       "    </tr>\n",
       "    <tr>\n",
       "      <th>21960</th>\n",
       "      <td>1</td>\n",
       "    </tr>\n",
       "    <tr>\n",
       "      <th>21961</th>\n",
       "      <td>1</td>\n",
       "    </tr>\n",
       "  </tbody>\n",
       "</table>\n",
       "<p>21962 rows × 1 columns</p>\n",
       "</div>"
      ],
      "text/plain": [
       "       Target\n",
       "0           0\n",
       "1           0\n",
       "2           0\n",
       "3           0\n",
       "4           0\n",
       "...       ...\n",
       "21957       1\n",
       "21958       1\n",
       "21959       1\n",
       "21960       1\n",
       "21961       1\n",
       "\n",
       "[21962 rows x 1 columns]"
      ]
     },
     "execution_count": 9,
     "metadata": {},
     "output_type": "execute_result"
    }
   ],
   "source": [
    "import statsmodels.api as sm   \n",
    "import imblearn\n",
    "# [1b] Helps split data into sets to create BLR.\n",
    "from imblearn.over_sampling import SMOTE  \n",
    "from sklearn.model_selection import train_test_split \n",
    "\n",
    "# [1c] Indicates situations that aren’t necessarily exceptions.\n",
    "import warnings  \n",
    "warnings.filterwarnings(\"ignore\")\n",
    "\n",
    "\n",
    "df_final = new_df.fillna(0)\n",
    "\n",
    "X = df_final.loc[:, df_final.columns !='Target']\n",
    "y = df_final.loc[:, df_final.columns == 'Target']\n",
    "\n",
    "x_test, x_train, y_test, y_train = train_test_split(X,y, test_size=0.3, random_state=0)\n",
    "\n",
    "os = SMOTE(random_state=0)\n",
    "\n",
    "columns = x_train.columns\n",
    "\n",
    "# resample data\n",
    "os_data_X, os_data_y = os.fit_resample(x_train, y_train)\n",
    "\n",
    "# set variables\n",
    "\n",
    "os_data_X = pd.DataFrame(data= os_data_X, columns = columns)\n",
    "os_data_y = pd.DataFrame(data= os_data_y, columns = ['Target'])\n",
    "\n",
    "print('length of resampled data is', len(os_data_X))\n",
    "os_data_y"
   ]
  },
  {
   "cell_type": "code",
   "execution_count": 10,
   "id": "99fd6925",
   "metadata": {},
   "outputs": [
    {
     "data": {
      "text/plain": [
       "Target\n",
       "0         10981\n",
       "1         10981\n",
       "dtype: int64"
      ]
     },
     "execution_count": 10,
     "metadata": {},
     "output_type": "execute_result"
    }
   ],
   "source": [
    "os_data_y.value_counts()"
   ]
  },
  {
   "cell_type": "markdown",
   "id": "3a1f9cc2",
   "metadata": {},
   "source": [
    "## Check Multicolinearity: Variance Inflation Factor (VIF)"
   ]
  },
  {
   "cell_type": "code",
   "execution_count": 11,
   "id": "8cd431b0",
   "metadata": {},
   "outputs": [
    {
     "data": {
      "text/plain": [
       "Age                           int64\n",
       "Duration                      int64\n",
       "Campaign                      int64\n",
       "PosDays                       int64\n",
       "Var_rate                    float64\n",
       "Price_idx                   float64\n",
       "Conf_idx                    float64\n",
       "Month_rate                  float64\n",
       "Quarterly_emp               float64\n",
       "Target                        int64\n",
       "Occupation_admin.             uint8\n",
       "Occupation_blue-collar        uint8\n",
       "Occupation_entrepreneur       uint8\n",
       "Occupation_housemaid          uint8\n",
       "Occupation_management         uint8\n",
       "Occupation_retired            uint8\n",
       "Occupation_self-employed      uint8\n",
       "Occupation_services           uint8\n",
       "Occupation_student            uint8\n",
       "Occupation_technician         uint8\n",
       "Occupation_unemployed         uint8\n",
       "Occupation_unknown            uint8\n",
       "Status_divorced               uint8\n",
       "Status_married                uint8\n",
       "Status_single                 uint8\n",
       "Status_unknown                uint8\n",
       "Edu_high-school               uint8\n",
       "Edu_masters                   uint8\n",
       "Edu_other                     uint8\n",
       "Edu_pre-school                uint8\n",
       "Edu_uni                       uint8\n",
       "House_no                      uint8\n",
       "House_unknown                 uint8\n",
       "House_yes                     uint8\n",
       "Loan_no                       uint8\n",
       "Loan_unknown                  uint8\n",
       "Loan_yes                      uint8\n",
       "Comm_cellular                 uint8\n",
       "Comm_telephone                uint8\n",
       "Month_apr                     uint8\n",
       "Month_aug                     uint8\n",
       "Month_dec                     uint8\n",
       "Month_jul                     uint8\n",
       "Month_jun                     uint8\n",
       "Month_mar                     uint8\n",
       "Month_may                     uint8\n",
       "Month_nov                     uint8\n",
       "Month_oct                     uint8\n",
       "Month_sep                     uint8\n",
       "DOW_fri                       uint8\n",
       "DOW_mon                       uint8\n",
       "DOW_thu                       uint8\n",
       "DOW_tue                       uint8\n",
       "DOW_wed                       uint8\n",
       "Last_out_failure              uint8\n",
       "Last_out_nonexistent          uint8\n",
       "Last_out_success              uint8\n",
       "dtype: object"
      ]
     },
     "execution_count": 11,
     "metadata": {},
     "output_type": "execute_result"
    }
   ],
   "source": [
    "df_final.dtypes"
   ]
  },
  {
   "cell_type": "code",
   "execution_count": 12,
   "id": "14421a7c",
   "metadata": {},
   "outputs": [
    {
     "data": {
      "text/html": [
       "<div>\n",
       "<style scoped>\n",
       "    .dataframe tbody tr th:only-of-type {\n",
       "        vertical-align: middle;\n",
       "    }\n",
       "\n",
       "    .dataframe tbody tr th {\n",
       "        vertical-align: top;\n",
       "    }\n",
       "\n",
       "    .dataframe thead th {\n",
       "        text-align: right;\n",
       "    }\n",
       "</style>\n",
       "<table border=\"1\" class=\"dataframe\">\n",
       "  <thead>\n",
       "    <tr style=\"text-align: right;\">\n",
       "      <th></th>\n",
       "      <th>Features</th>\n",
       "      <th>Vif Factors</th>\n",
       "    </tr>\n",
       "  </thead>\n",
       "  <tbody>\n",
       "    <tr>\n",
       "      <th>0</th>\n",
       "      <td>Age</td>\n",
       "      <td>16.045844</td>\n",
       "    </tr>\n",
       "    <tr>\n",
       "      <th>1</th>\n",
       "      <td>Duration</td>\n",
       "      <td>2.444768</td>\n",
       "    </tr>\n",
       "    <tr>\n",
       "      <th>2</th>\n",
       "      <td>Campaign</td>\n",
       "      <td>1.921042</td>\n",
       "    </tr>\n",
       "    <tr>\n",
       "      <th>3</th>\n",
       "      <td>PosDays</td>\n",
       "      <td>34.949748</td>\n",
       "    </tr>\n",
       "    <tr>\n",
       "      <th>4</th>\n",
       "      <td>Var_rate</td>\n",
       "      <td>28.952264</td>\n",
       "    </tr>\n",
       "    <tr>\n",
       "      <th>5</th>\n",
       "      <td>Price_idx</td>\n",
       "      <td>22554.990597</td>\n",
       "    </tr>\n",
       "    <tr>\n",
       "      <th>6</th>\n",
       "      <td>Conf_idx</td>\n",
       "      <td>120.794996</td>\n",
       "    </tr>\n",
       "    <tr>\n",
       "      <th>7</th>\n",
       "      <td>Month_rate</td>\n",
       "      <td>225.576222</td>\n",
       "    </tr>\n",
       "    <tr>\n",
       "      <th>8</th>\n",
       "      <td>Quarterly_emp</td>\n",
       "      <td>26802.864918</td>\n",
       "    </tr>\n",
       "    <tr>\n",
       "      <th>9</th>\n",
       "      <td>Target</td>\n",
       "      <td>1.662161</td>\n",
       "    </tr>\n",
       "  </tbody>\n",
       "</table>\n",
       "</div>"
      ],
      "text/plain": [
       "        Features   Vif Factors\n",
       "0            Age     16.045844\n",
       "1       Duration      2.444768\n",
       "2       Campaign      1.921042\n",
       "3        PosDays     34.949748\n",
       "4       Var_rate     28.952264\n",
       "5      Price_idx  22554.990597\n",
       "6       Conf_idx    120.794996\n",
       "7     Month_rate    225.576222\n",
       "8  Quarterly_emp  26802.864918\n",
       "9         Target      1.662161"
      ]
     },
     "execution_count": 12,
     "metadata": {},
     "output_type": "execute_result"
    }
   ],
   "source": [
    "from statsmodels.stats.outliers_influence import variance_inflation_factor\n",
    "\n",
    "numerics = ['int16', 'int32', 'int64', 'float16', 'float32', 'float64']\n",
    "\n",
    "df_num = df.select_dtypes(include=numerics)\n",
    "\n",
    "vif = pd.DataFrame()\n",
    "\n",
    "vif['Features'] = df_num.columns\n",
    "vif['Vif Factors'] = [variance_inflation_factor(df_num.values, i) \n",
    "                      for i in range (len(df_num.columns))]\n",
    "\n",
    "vif"
   ]
  },
  {
   "cell_type": "markdown",
   "id": "47f13227",
   "metadata": {},
   "source": [
    "## Notes:\n",
    "\n",
    "Apart from Duration and Campaign all of the other numerical variables show high degree of multicolinearity"
   ]
  },
  {
   "cell_type": "markdown",
   "id": "2f3da927",
   "metadata": {},
   "source": [
    "# Box_Tidwell: \n",
    "\n",
    "to check if there is a non-linearity between the continous varibales and the log odds"
   ]
  },
  {
   "cell_type": "code",
   "execution_count": 13,
   "id": "3d1c6ddc",
   "metadata": {},
   "outputs": [
    {
     "data": {
      "text/plain": [
       "['Age',\n",
       " 'Duration',\n",
       " 'Campaign',\n",
       " 'PosDays',\n",
       " 'Var_rate',\n",
       " 'Price_idx',\n",
       " 'Conf_idx',\n",
       " 'Month_rate',\n",
       " 'Quarterly_emp',\n",
       " 'Age:Log_Age',\n",
       " 'Duration:Log_Duration',\n",
       " 'Campaign:Log_Campaign',\n",
       " 'PosDays:Log_PosDays',\n",
       " 'Var_rate:Log_Var_rate',\n",
       " 'Price_idx:Log_Price_idx',\n",
       " 'Conf_idx:Log_Conf_idx',\n",
       " 'Month_rate:Log_Month_rate',\n",
       " 'Quarterly_emp:Log_Quarterly_emp']"
      ]
     },
     "execution_count": 13,
     "metadata": {},
     "output_type": "execute_result"
    }
   ],
   "source": [
    "# [1] Import necessary libraries, modules, classes and packages.\n",
    "from statsmodels.genmod.generalized_linear_model import GLM\n",
    "from statsmodels.genmod import families\n",
    "\n",
    "# [2] Select all the continuous variables.\n",
    "continuous_vars = list(df_num.columns[:-1])\n",
    "\n",
    "# [3] Make a copy of the DataFrame.\n",
    "df_test = df.copy()\n",
    "\n",
    "# [4] Add logit transform interaction terms (natural log) for \n",
    "# continuous variables e.g.. Age * Log(Age).\n",
    "for var in continuous_vars:\n",
    "    df_test[f'{var}:Log_{var}'] = df_test[var].apply(lambda x: x * np.log(x))\n",
    "    \n",
    "    # [5] Keep columns related to continuous variables.\n",
    "    cols_to_keep = continuous_vars + [_ for _ in df_test.columns if 'Log_' in _]\n",
    "\n",
    "# [6] View output\n",
    "list(cols_to_keep) "
   ]
  },
  {
   "cell_type": "code",
   "execution_count": 14,
   "id": "91b9e3c0",
   "metadata": {},
   "outputs": [
    {
     "name": "stdout",
     "output_type": "stream",
     "text": [
      "                 Generalized Linear Model Regression Results                  \n",
      "==============================================================================\n",
      "Dep. Variable:                 Target   No. Observations:                41188\n",
      "Model:                            GLM   Df Residuals:                    41170\n",
      "Model Family:                Binomial   Df Model:                           17\n",
      "Link Function:                  logit   Scale:                          1.0000\n",
      "Method:                          IRLS   Log-Likelihood:                -8371.3\n",
      "Date:                Thu, 02 Jun 2022   Deviance:                       16743.\n",
      "Time:                        17:51:36   Pearson chi2:                 2.71e+04\n",
      "No. Iterations:                     8                                         \n",
      "Covariance Type:            nonrobust                                         \n",
      "===================================================================================================\n",
      "                                      coef    std err          z      P>|z|      [0.025      0.975]\n",
      "---------------------------------------------------------------------------------------------------\n",
      "Age                                -0.4184      0.045     -9.339      0.000      -0.506      -0.331\n",
      "Duration                            0.0358      0.001     37.298      0.000       0.034       0.038\n",
      "Campaign                           -0.1112      0.047     -2.351      0.019      -0.204      -0.019\n",
      "PosDays                            -0.0974      0.029     -3.311      0.001      -0.155      -0.040\n",
      "Var_rate                           -1.1854      0.077    -15.392      0.000      -1.336      -1.034\n",
      "Price_idx                         428.4909     62.367      6.870      0.000     306.253     550.729\n",
      "Conf_idx                           -0.0115      0.012     -0.975      0.330      -0.035       0.012\n",
      "Month_rate                         -0.2738      0.546     -0.502      0.616      -1.343       0.795\n",
      "Quarterly_emp                      -3.3325      1.171     -2.846      0.004      -5.628      -1.038\n",
      "Age:Log_Age                         0.0874      0.009      9.352      0.000       0.069       0.106\n",
      "Duration:Log_Duration              -0.0042      0.000    -33.402      0.000      -0.004      -0.004\n",
      "Campaign:Log_Campaign               0.0293      0.018      1.614      0.107      -0.006       0.065\n",
      "PosDays:Log_PosDays                 0.0138      0.004      3.256      0.001       0.005       0.022\n",
      "Var_rate:Log_Var_rate               2.3829      0.427      5.586      0.000       1.547       3.219\n",
      "Price_idx:Log_Price_idx           -77.3231     11.257     -6.869      0.000     -99.387     -55.259\n",
      "Conf_idx:Log_Conf_idx           -2.741e-13   6.27e-14     -4.369      0.000   -3.97e-13   -1.51e-13\n",
      "Month_rate:Log_Month_rate           0.4273      0.280      1.527      0.127      -0.121       0.976\n",
      "Quarterly_emp:Log_Quarterly_emp     0.3482      0.123      2.831      0.005       0.107       0.589\n",
      "const                           -5420.9228   1145.898     -4.731      0.000   -7666.841   -3175.004\n",
      "===================================================================================================\n"
     ]
    }
   ],
   "source": [
    "# Redefining variables to include interaction terms\n",
    "# [1] replace missing values with 0\n",
    "X_lt = df_test[cols_to_keep].fillna(0)\n",
    "\n",
    "# [2] Add constant term\n",
    "X_lt_constant = sm.add_constant(X_lt, prepend=False)\n",
    "  \n",
    "# [3] Building model and fit the data (using statsmodel's Logit)\n",
    "logit_results = GLM(y, X_lt_constant, family=families.Binomial()).fit()\n",
    "\n",
    "# [4] Display summary results\n",
    "print(logit_results.summary())"
   ]
  },
  {
   "cell_type": "markdown",
   "id": "ba6c3d39",
   "metadata": {},
   "source": [
    "## Notes:\n",
    "\n",
    "we can see from the results that all of the selected variables have a non-linear relationship with the log odds except fro campaign and month_rate."
   ]
  },
  {
   "cell_type": "markdown",
   "id": "812bec21",
   "metadata": {},
   "source": [
    "# Recursive Feature ELimination (RFE)\n",
    "\n",
    "We use RFE to identify the most suited variables"
   ]
  },
  {
   "cell_type": "code",
   "execution_count": 15,
   "id": "ad027c00",
   "metadata": {},
   "outputs": [
    {
     "data": {
      "text/plain": [
       "['55. Last_out_nonexistent',\n",
       " '51. DOW_thu',\n",
       " '48. Month_sep',\n",
       " '56. Last_out_success',\n",
       " '49. DOW_fri',\n",
       " '47. Month_oct',\n",
       " '53. DOW_wed',\n",
       " '39. Month_apr',\n",
       " '50. DOW_mon',\n",
       " '32. House_unknown',\n",
       " '27. Edu_masters',\n",
       " '30. Edu_uni',\n",
       " '35. Loan_unknown',\n",
       " '29. Edu_pre-school',\n",
       " '37. Comm_cellular',\n",
       " '33. House_yes',\n",
       " '28. Edu_other',\n",
       " '36. Loan_yes',\n",
       " '34. Loan_no',\n",
       " '31. House_no',\n",
       " '26. Edu_high-school',\n",
       " '16. Occupation_self-employed',\n",
       " '17. Occupation_services',\n",
       " '18. Occupation_student',\n",
       " '19. Occupation_technician',\n",
       " '7. Month_rate',\n",
       " '9. Target',\n",
       " '8. Quarterly_emp',\n",
       " '6. Conf_idx',\n",
       " '10. Occupation_admin.',\n",
       " '12. Occupation_entrepreneur',\n",
       " '22. Status_divorced',\n",
       " '13. Occupation_housemaid',\n",
       " '24. Status_single',\n",
       " '11. Occupation_blue-collar',\n",
       " '23. Status_married',\n",
       " '15. Occupation_retired',\n",
       " '14. Occupation_management',\n",
       " '40. Month_aug',\n",
       " '52. DOW_tue',\n",
       " '54. Last_out_failure',\n",
       " '46. Month_nov',\n",
       " '43. Month_jun',\n",
       " '25. Status_unknown',\n",
       " '38. Comm_telephone',\n",
       " '41. Month_dec',\n",
       " '45. Month_may',\n",
       " '42. Month_jul',\n",
       " '2. Campaign',\n",
       " '1. Duration',\n",
       " '4. Var_rate',\n",
       " '5. Price_idx',\n",
       " '3. PosDays',\n",
       " '21. Occupation_unknown',\n",
       " '20. Occupation_unemployed',\n",
       " '44. Month_mar']"
      ]
     },
     "execution_count": 15,
     "metadata": {},
     "output_type": "execute_result"
    }
   ],
   "source": [
    "# Recursive feature elimination (RFE):\n",
    "# [1] Create a new DataFrame.\n",
    "data_final_vars=df_final.columns.values.tolist()\n",
    "\n",
    "# [2a] Set the dependent variable.\n",
    "y=['Target']  \n",
    "# [2b] Set the independent variable.\n",
    "X=[i for i in data_final_vars if i not in y]  \n",
    "\n",
    "# [3] Import two packages from sklearn:\n",
    "from sklearn.feature_selection import RFE\n",
    "from sklearn.linear_model import LogisticRegression\n",
    "\n",
    "# [4] Indicate ‘logreg’ equals ‘LogisticRegression()’. \n",
    "logreg = LogisticRegression()\n",
    "\n",
    "# [5] Specify ‘rfe’ value and no. of features.\n",
    "# Here are two options for rfe. See which one works for you.\n",
    "selector = RFE(logreg,n_features_to_select=1)\n",
    "\n",
    "# [6] Indicate the fit with ‘fit()’.\n",
    "selector = selector.fit(os_data_X, os_data_y.values.ravel())  \n",
    "\n",
    "order = selector.ranking_\n",
    "\n",
    "feature_ranking = []\n",
    "\n",
    "for i in order:\n",
    "    feature_ranking.append(f\"{i}. {data_final_vars[i]}\")\n",
    "    \n",
    "feature_ranking"
   ]
  },
  {
   "cell_type": "markdown",
   "id": "5e27e55a",
   "metadata": {},
   "source": [
    "## BLR model efficacy"
   ]
  },
  {
   "cell_type": "code",
   "execution_count": 23,
   "id": "0702432a",
   "metadata": {},
   "outputs": [
    {
     "name": "stdout",
     "output_type": "stream",
     "text": [
      "Optimization terminated successfully.\n",
      "         Current function value: 0.504517\n",
      "         Iterations 6\n",
      "                         Results: Logit\n",
      "=================================================================\n",
      "Model:              Logit            Pseudo R-squared: 0.272     \n",
      "Dependent Variable: Target           AIC:              22192.4220\n",
      "Date:               2022-06-02 17:53 BIC:              22320.3751\n",
      "No. Observations:   21962            Log-Likelihood:   -11080.   \n",
      "Df Model:           15               LL-Null:          -15223.   \n",
      "Df Residuals:       21946            LLR p-value:      0.0000    \n",
      "Converged:          1.0000           Scale:            1.0000    \n",
      "No. Iterations:     6.0000                                       \n",
      "-----------------------------------------------------------------\n",
      "                  Coef.  Std.Err.    z     P>|z|   [0.025  0.975]\n",
      "-----------------------------------------------------------------\n",
      "Status_divorced  -0.7810   0.0858  -9.1055 0.0000 -0.9491 -0.6129\n",
      "Status_married    0.0464   0.0460   1.0082 0.3133 -0.0438  0.1365\n",
      "Status_single     0.1364   0.0512   2.6625 0.0078  0.0360  0.2369\n",
      "Status_unknown   -0.9918   0.6356  -1.5603 0.1187 -2.2376  0.2541\n",
      "Edu_high-school  -2.7951   0.0637 -43.8974 0.0000 -2.9199 -2.6703\n",
      "Edu_masters      -2.9438   0.0783 -37.6082 0.0000 -3.0972 -2.7904\n",
      "Edu_other        -3.0732   0.1266 -24.2749 0.0000 -3.3213 -2.8251\n",
      "Edu_pre-school   -2.8143   0.0603 -46.6593 0.0000 -2.9325 -2.6961\n",
      "Edu_uni          -1.9453   0.0534 -36.4083 0.0000 -2.0501 -1.8406\n",
      "House_no         -0.4587   0.0513  -8.9355 0.0000 -0.5594 -0.3581\n",
      "House_unknown     0.4087      nan      nan    nan     nan     nan\n",
      "House_yes        -0.2568   0.0487  -5.2738 0.0000 -0.3523 -0.1614\n",
      "Loan_no           2.2235   0.0497  44.7706 0.0000  2.1262  2.3209\n",
      "Loan_unknown      0.4087      nan      nan    nan     nan     nan\n",
      "Loan_yes          1.2989   0.0810  16.0416 0.0000  1.1402  1.4576\n",
      "DOW_fri          -0.7452   0.0559 -13.3413 0.0000 -0.8547 -0.6358\n",
      "DOW_mon          -0.8592   0.0542 -15.8514 0.0000 -0.9654 -0.7530\n",
      "=================================================================\n",
      "\n"
     ]
    }
   ],
   "source": [
    "# [1] Name the new DataFrame and [2] specify all the columns for BLR:\n",
    "nec_cols = ['Status_divorced', 'Status_married', 'Status_single',\n",
    "            'Status_unknown', 'Edu_high-school', 'Edu_masters', \n",
    "            'Edu_other', 'Edu_pre-school', 'Edu_uni', 'House_no',\n",
    "            'House_unknown', 'House_yes', 'Loan_no', 'Loan_unknown',\n",
    "            'Loan_yes', 'DOW_fri', 'DOW_mon']\n",
    "\n",
    "# [3a] Set the independent variable.\n",
    "X=os_data_X[nec_cols]  \n",
    "# [3b] Set the dependent variable.\n",
    "y=os_data_y['Target']  \n",
    "\n",
    "# [4] Set the logit() to accept y and x as parameters and return the logit object:\n",
    "logit_model=sm.Logit(y, X)\n",
    "\n",
    "# [5] Indicate result = logit_model.fit() function.\n",
    "result=logit_model.fit()  \n",
    "\n",
    "# [6] Print the results.\n",
    "print(result.summary2()) \n"
   ]
  },
  {
   "cell_type": "markdown",
   "id": "b49f7063",
   "metadata": {},
   "source": [
    "## Fit and test BLR model"
   ]
  },
  {
   "cell_type": "code",
   "execution_count": 24,
   "id": "5f91ef3c",
   "metadata": {},
   "outputs": [
    {
     "data": {
      "text/plain": [
       "LogisticRegression()"
      ]
     },
     "execution_count": 24,
     "metadata": {},
     "output_type": "execute_result"
    }
   ],
   "source": [
    "# [1] Import necessary packages:\n",
    "from sklearn.linear_model import LogisticRegression\n",
    "from sklearn import metrics\n",
    "\n",
    "# [2] Split X and y data sets into ‘train’ and ‘test’ in a 30:70 ratio:\n",
    "X_train, X_test, y_train, y_test = train_test_split(X, y, test_size=0.3,\n",
    "                                                    random_state=0)\n",
    "\n",
    "# [2a] Set LogisticRegression() to ‘logreg’.\n",
    "logreg = LogisticRegression() \n",
    "\n",
    "# [2b] Fit the X_train and y_train data sets to logreg. \n",
    "logreg.fit(X_train, y_train) \n",
    "\n",
    "y_pred = logreg.predict(X_test)"
   ]
  },
  {
   "cell_type": "markdown",
   "id": "30d4eeff",
   "metadata": {},
   "source": [
    "## BLR model evaluation"
   ]
  },
  {
   "cell_type": "code",
   "execution_count": 26,
   "id": "f8107434",
   "metadata": {},
   "outputs": [
    {
     "name": "stdout",
     "output_type": "stream",
     "text": [
      "[[3287    0]\n",
      " [ 550 2752]]\n",
      "BLR model accuracy: 0.9165275459098498\n",
      "BLR model precison: 1.0\n",
      "BLR model recall: 0.8334342822531798\n"
     ]
    }
   ],
   "source": [
    "from sklearn.metrics import confusion_matrix\n",
    "from sklearn.metrics import classification_report\n",
    "\n",
    "print(confusion_matrix(y_test,y_pred))\n",
    "print('BLR model accuracy:', metrics.accuracy_score(y_test,y_pred))\n",
    "print('BLR model precison:', metrics.precision_score(y_test, y_pred))\n",
    "print('BLR model recall:', metrics.recall_score(y_test, y_pred))"
   ]
  },
  {
   "cell_type": "markdown",
   "id": "1fe7ad4f",
   "metadata": {},
   "source": [
    "### BLR Model notes:\n",
    "\n",
    "The model has a very high precision, accuracy and recall rate"
   ]
  },
  {
   "cell_type": "markdown",
   "id": "dd086c08",
   "metadata": {},
   "source": [
    "# 2. Build SVM MODEL"
   ]
  },
  {
   "cell_type": "code",
   "execution_count": 31,
   "id": "8ee3a7d7",
   "metadata": {},
   "outputs": [],
   "source": [
    "from sklearn import svm \n",
    "\n",
    "# [3a] Set the independent variable.\n",
    "x=os_data_X[nec_cols]  \n",
    "# [3b] Set the dependent variable.\n",
    "y=os_data_y['Target'] \n",
    "\n",
    "x_test, x_train, y_test, y_train = train_test_split(x,y, test_size = 0.3, random_state=0)\n",
    "\n",
    "clf = svm.SVC(kernel='linear', gamma= 'scale')\n",
    "\n",
    "clf.fit(x_train, y_train)\n",
    "\n",
    "prediction = clf.predict(x_test)"
   ]
  },
  {
   "cell_type": "markdown",
   "id": "bd133985",
   "metadata": {},
   "source": [
    "## SVM model evaluation"
   ]
  },
  {
   "cell_type": "code",
   "execution_count": 32,
   "id": "49e39828",
   "metadata": {},
   "outputs": [
    {
     "name": "stdout",
     "output_type": "stream",
     "text": [
      "[[7694    0]\n",
      " [1334 6345]]\n",
      "SVM model accuracy: 0.9132244844857867\n",
      "SVM model precison: 1.0\n",
      "SVM model recall: 0.8262794634718063\n"
     ]
    }
   ],
   "source": [
    "print(confusion_matrix(y_test,prediction))\n",
    "print('SVM model accuracy:', metrics.accuracy_score(y_test,prediction))\n",
    "print('SVM model precison:', metrics.precision_score(y_test, prediction))\n",
    "print('SVM model recall:', metrics.recall_score(y_test, prediction))"
   ]
  },
  {
   "cell_type": "markdown",
   "id": "701cd75b",
   "metadata": {},
   "source": [
    "# 3. Build Decision Tree MODEL"
   ]
  },
  {
   "cell_type": "code",
   "execution_count": 48,
   "id": "5a0fcf8e",
   "metadata": {},
   "outputs": [],
   "source": [
    "from sklearn.tree import DecisionTreeClassifier\n",
    "\n",
    "# [3a] Set the independent variable.\n",
    "X=os_data_X[nec_cols]  \n",
    "# [3b] Set the dependent variable.\n",
    "y=os_data_y['Target'] \n",
    "\n",
    "x_test, x_train, y_test, y_train = train_test_split(X, y, test_size=0.3, random_state=0)\n",
    "\n",
    "dtc = DecisionTreeClassifier(criterion='gini',max_depth=4, random_state=1)\n",
    "\n",
    "dtc = dtc.fit(x_train, y_train)\n",
    "\n",
    "dtc_pred = dtc.predict(x_test)\n"
   ]
  },
  {
   "cell_type": "markdown",
   "id": "84165763",
   "metadata": {},
   "source": [
    "## Decision Tree model evaluation"
   ]
  },
  {
   "cell_type": "code",
   "execution_count": 49,
   "id": "8c324b6d",
   "metadata": {},
   "outputs": [
    {
     "name": "stdout",
     "output_type": "stream",
     "text": [
      "[[6333 1361]\n",
      " [1596 6083]]\n",
      "DTC model accuracy: 0.8076497755805633\n",
      "DTC model precison: 0.8171681891456206\n",
      "DTC model recall: 0.7921604375569735\n"
     ]
    }
   ],
   "source": [
    "print(confusion_matrix(y_test,dtc_pred))\n",
    "print('DTC model accuracy:', metrics.accuracy_score(y_test,dtc_pred))\n",
    "print('DTC model precison:', metrics.precision_score(y_test, dtc_pred))\n",
    "print('DTC model recall:', metrics.recall_score(y_test, dtc_pred))"
   ]
  },
  {
   "cell_type": "code",
   "execution_count": null,
   "id": "91ef024c",
   "metadata": {},
   "outputs": [],
   "source": []
  }
 ],
 "metadata": {
  "kernelspec": {
   "display_name": "Python 3 (ipykernel)",
   "language": "python",
   "name": "python3"
  },
  "language_info": {
   "codemirror_mode": {
    "name": "ipython",
    "version": 3
   },
   "file_extension": ".py",
   "mimetype": "text/x-python",
   "name": "python",
   "nbconvert_exporter": "python",
   "pygments_lexer": "ipython3",
   "version": "3.9.7"
  }
 },
 "nbformat": 4,
 "nbformat_minor": 5
}
