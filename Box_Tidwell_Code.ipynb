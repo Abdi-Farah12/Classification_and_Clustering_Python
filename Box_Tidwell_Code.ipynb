{
 "cells": [
  {
   "cell_type": "markdown",
   "id": "c8cdc4f5",
   "metadata": {},
   "source": [
    "# Box-Tidwell code  (check for linearity of independent variable with log odds)"
   ]
  },
  {
   "cell_type": "code",
   "execution_count": null,
   "id": "91df2976",
   "metadata": {},
   "outputs": [],
   "source": [
    "# Define continuous variables\n",
    "continuous_var = ['Age', 'Fare']\n",
    "\n",
    "# Add logit transform interaction terms (natural log) for continuous variables e.g.. Age * Log(Age)\n",
    "for var in continuous_var:\n",
    "    df_titanic[f'{var}:Log_{var}'] = df_titanic[var].apply(lambda x: x * np.log(x))\n",
    "\n",
    "# Keep columns related to continuous variables\n",
    "cols_to_keep = continuous_var + df_titanic.columns.tolist()[-len(continuous_var):]\n",
    "\n",
    "# Redefining variables to include interaction terms\n",
    "X_lt = df_titanic[cols_to_keep]\n",
    "\n",
    "# Add constant term\n",
    "X_lt_constant = sm.add_constant(X_lt, prepend=False)\n",
    "  \n",
    "# Building model and fit the data (using statsmodel's Logit)\n",
    "logit_results = GLM(y, X_lt_constant, family=families.Binomial()).fit()\n",
    "\n",
    "# Display summary results\n",
    "print(logit_results.summary())"
   ]
  }
 ],
 "metadata": {
  "kernelspec": {
   "display_name": "Python 3 (ipykernel)",
   "language": "python",
   "name": "python3"
  },
  "language_info": {
   "codemirror_mode": {
    "name": "ipython",
    "version": 3
   },
   "file_extension": ".py",
   "mimetype": "text/x-python",
   "name": "python",
   "nbconvert_exporter": "python",
   "pygments_lexer": "ipython3",
   "version": "3.9.7"
  }
 },
 "nbformat": 4,
 "nbformat_minor": 5
}
