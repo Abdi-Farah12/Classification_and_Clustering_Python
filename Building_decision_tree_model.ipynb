{
 "cells": [
  {
   "cell_type": "markdown",
   "id": "46fcc342",
   "metadata": {},
   "source": [
    "## Creating a decision tree"
   ]
  },
  {
   "cell_type": "markdown",
   "id": "26969258",
   "metadata": {},
   "source": [
    "\n",
    "We will compile a report indicating the following:\n",
    "\n",
    "- descriptive statistics of the data set\n",
    "- if the data set is balanced or not\n",
    "- if cancer could be predicted based on some kind of detection measurement\n",
    "- indicate the accuracy of the model."
   ]
  },
  {
   "cell_type": "markdown",
   "id": "e0ec3ed0",
   "metadata": {},
   "source": [
    "## 1. Prepare your workstation"
   ]
  },
  {
   "cell_type": "code",
   "execution_count": null,
   "id": "19b7bc2c",
   "metadata": {},
   "outputs": [],
   "source": [
    "# import all the necessary packages\n",
    "import numpy as np\n",
    "import pandas as pd"
   ]
  },
  {
   "cell_type": "markdown",
   "id": "8a657692",
   "metadata": {},
   "source": [
    "## 2. Import the data set"
   ]
  },
  {
   "cell_type": "code",
   "execution_count": null,
   "id": "78df595c",
   "metadata": {},
   "outputs": [],
   "source": [
    "# import data into Python\n",
    "df = pd.read_csv('breast_cancer_data.csv', \n",
    "                 index_col='id')\n",
    "\n",
    "df.info()"
   ]
  },
  {
   "cell_type": "code",
   "execution_count": null,
   "id": "6a7980fd",
   "metadata": {},
   "outputs": [],
   "source": [
    "# determine null values\n",
    "df.isnull().sum()"
   ]
  },
  {
   "cell_type": "code",
   "execution_count": null,
   "id": "94577f6d",
   "metadata": {},
   "outputs": [],
   "source": [
    "# descriptive statistics\n",
    "df.describe()"
   ]
  },
  {
   "cell_type": "code",
   "execution_count": null,
   "id": "c03a31d8",
   "metadata": {},
   "outputs": [],
   "source": [
    "# All values are null. We'll drop them.\n",
    "df.drop(labels='Unnamed: 32', axis=1, inplace=True)"
   ]
  },
  {
   "cell_type": "code",
   "execution_count": null,
   "id": "5edffb31",
   "metadata": {},
   "outputs": [],
   "source": [
    "df['diagnosis'].value_counts(normalize=True)"
   ]
  },
  {
   "cell_type": "code",
   "execution_count": null,
   "id": "1d9335a5",
   "metadata": {},
   "outputs": [],
   "source": [
    "# determine if data set is balanced\n",
    "df['diagnosis'].value_counts()"
   ]
  },
  {
   "cell_type": "markdown",
   "id": "a2b6ccab",
   "metadata": {},
   "source": [
    "## 3. Create a decision tree model"
   ]
  },
  {
   "cell_type": "code",
   "execution_count": null,
   "id": "d95605e9",
   "metadata": {},
   "outputs": [],
   "source": [
    "# import necessary packages\n",
    "import imblearn\n",
    "from sklearn.model_selection import train_test_split\n",
    "import statsmodels.api as sm\n",
    "import warnings\n",
    "warnings.filterwarnings(\"ignore\")\n",
    "\n",
    "target_col = 'diagnosis'\n",
    "feature_cols = [c for c in df.columns if c != target_col]\n",
    "\n",
    "X = df[feature_cols]\n",
    "y = df[target_col]\n",
    "\n",
    "X_train, X_test, y_train, y_test = train_test_split(X, y, random_state=1)"
   ]
  },
  {
   "cell_type": "code",
   "execution_count": null,
   "id": "d91afbc6",
   "metadata": {},
   "outputs": [],
   "source": [
    "from sklearn.tree import DecisionTreeClassifier \n",
    "\n",
    "# Create Decision Tree classifer object\n",
    "dtc = DecisionTreeClassifier(criterion='gini', max_depth=4, random_state=1)\n",
    "\n",
    "# Train Decision Tree Classifer\n",
    "dtc = dtc.fit(X, y)\n",
    "\n",
    "#Predict the response for test dataset\n",
    "y_pred = dtc.predict(X_test)"
   ]
  },
  {
   "cell_type": "markdown",
   "id": "e0956d71",
   "metadata": {},
   "source": [
    "## 4. Calculate accuracy of model"
   ]
  },
  {
   "cell_type": "code",
   "execution_count": null,
   "id": "641f6d54",
   "metadata": {},
   "outputs": [],
   "source": [
    "from sklearn.metrics import confusion_matrix\n",
    "from sklearn import metrics\n",
    "\n",
    "confusion_matrix = confusion_matrix(y_test, y_pred)\n",
    "\n",
    "print(confusion_matrix)"
   ]
  },
  {
   "cell_type": "code",
   "execution_count": null,
   "id": "5cf6c5ba",
   "metadata": {},
   "outputs": [],
   "source": [
    "# same option as with previous models for comparison between models\n",
    "from sklearn.metrics import classification_report\n",
    "\n",
    "print(classification_report(y_test, y_pred))"
   ]
  },
  {
   "cell_type": "markdown",
   "id": "29150924",
   "metadata": {},
   "source": [
    "## 5. Plot the decision tree"
   ]
  },
  {
   "cell_type": "code",
   "execution_count": null,
   "id": "37d2dcbc",
   "metadata": {},
   "outputs": [],
   "source": [
    "import matplotlib.pyplot as plt\n",
    "from sklearn import tree\n",
    "\n",
    "#plot the decision tree based on Gini Index\n",
    "fig, ax = plt.subplots(figsize=(10, 10))\n",
    "tree.plot_tree(dtc, fontsize=10)\n",
    "\n",
    "plt.show()\n",
    "#tree.plot_tree(dtc)"
   ]
  },
  {
   "cell_type": "code",
   "execution_count": null,
   "id": "de69c66b",
   "metadata": {},
   "outputs": [],
   "source": []
  }
 ],
 "metadata": {
  "kernelspec": {
   "display_name": "Python 3 (ipykernel)",
   "language": "python",
   "name": "python3"
  },
  "language_info": {
   "codemirror_mode": {
    "name": "ipython",
    "version": 3
   },
   "file_extension": ".py",
   "mimetype": "text/x-python",
   "name": "python",
   "nbconvert_exporter": "python",
   "pygments_lexer": "ipython3",
   "version": "3.9.7"
  }
 },
 "nbformat": 4,
 "nbformat_minor": 5
}
