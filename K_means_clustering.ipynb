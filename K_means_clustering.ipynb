{
 "cells": [
  {
   "cell_type": "markdown",
   "id": "46fcc342",
   "metadata": {},
   "source": [
    "## k-means clustering"
   ]
  },
  {
   "cell_type": "markdown",
   "id": "e0ec3ed0",
   "metadata": {},
   "source": [
    "## 1. Prepare your workstation"
   ]
  },
  {
   "cell_type": "code",
   "execution_count": null,
   "id": "19b7bc2c",
   "metadata": {},
   "outputs": [],
   "source": [
    "# import all the necessary packages\n",
    "import numpy as np\n",
    "import pandas as pd\n",
    "\n",
    "import warnings  \n",
    "warnings.filterwarnings(\"ignore\")"
   ]
  },
  {
   "cell_type": "code",
   "execution_count": null,
   "id": "78df595c",
   "metadata": {},
   "outputs": [],
   "source": [
    "# import data into Python\n",
    "df_ais = pd.read_csv('ais.csv')\n",
    "\n",
    "df_ais.info()"
   ]
  },
  {
   "cell_type": "code",
   "execution_count": null,
   "id": "6a7980fd",
   "metadata": {},
   "outputs": [],
   "source": [
    "# determine null values\n",
    "df_ais.isnull().sum()"
   ]
  },
  {
   "cell_type": "markdown",
   "id": "8a657692",
   "metadata": {},
   "source": [
    "## 2. Evaluate the variables"
   ]
  },
  {
   "cell_type": "code",
   "execution_count": null,
   "id": "94577f6d",
   "metadata": {},
   "outputs": [],
   "source": [
    "# descriptive statistics\n",
    "df_ais.describe()"
   ]
  },
  {
   "cell_type": "markdown",
   "id": "a2b6ccab",
   "metadata": {},
   "source": [
    "## 3. Drop unneeded columns"
   ]
  },
  {
   "cell_type": "code",
   "execution_count": null,
   "id": "d95605e9",
   "metadata": {},
   "outputs": [],
   "source": [
    "# quick analysis on the variable \n",
    "print(len(df_ais['sex'].unique()))\n",
    "#in cluster analysis we cannot use unique identifier so we drop this column\n",
    "df_ais.drop('sex', axis=1, inplace=True)"
   ]
  },
  {
   "cell_type": "code",
   "execution_count": null,
   "id": "d91afbc6",
   "metadata": {},
   "outputs": [],
   "source": [
    "len(df_ais['sport'].unique())\n",
    "#so we do nothing "
   ]
  },
  {
   "cell_type": "code",
   "execution_count": null,
   "id": "76a951ba",
   "metadata": {},
   "outputs": [],
   "source": [
    "# Display the column names.\n",
    "df_ais.columns "
   ]
  },
  {
   "cell_type": "code",
   "execution_count": null,
   "id": "641f6d54",
   "metadata": {},
   "outputs": [],
   "source": [
    "import matplotlib.pyplot as plt\n",
    "import seaborn as sns \n",
    "\n",
    "plt.figure(figsize=(12, 12))\n",
    "ax = sns.countplot(x=\"sport\", data=df_ais)\n",
    "plt.title('Blood characteristics of athletes')\n",
    "plt.xlabel('sport type')\n",
    "plt.ylabel('frequency')\n",
    "\n",
    "for p in ax.patches:\n",
    "        ax.annotate('{:.1f}'.format(p.get_height()), (p.get_x()+0.1, p.get_height()+50), va='center')"
   ]
  },
  {
   "cell_type": "markdown",
   "id": "e0956d71",
   "metadata": {},
   "source": [
    "## 4. Specify the target variable "
   ]
  },
  {
   "cell_type": "code",
   "execution_count": null,
   "id": "5cf6c5ba",
   "metadata": {},
   "outputs": [],
   "source": [
    "#define the target variable\n",
    "X = df_ais\n",
    "y = df_ais['sport']"
   ]
  },
  {
   "cell_type": "code",
   "execution_count": null,
   "id": "d5b0a30e",
   "metadata": {},
   "outputs": [],
   "source": [
    "# Import the LabelEncoder class:\n",
    "from sklearn.preprocessing import LabelEncoder\n",
    "\n",
    "#convert the target variable to integers\n",
    "le = LabelEncoder()\n",
    "\n",
    "#replace in the existing DataFrame with the integer values\n",
    "X['sport'] = le.fit_transform(X['sport'])\n",
    "y = le.transform(y)"
   ]
  },
  {
   "cell_type": "code",
   "execution_count": null,
   "id": "4ece5a7f",
   "metadata": {},
   "outputs": [],
   "source": [
    "X.info()"
   ]
  },
  {
   "cell_type": "code",
   "execution_count": null,
   "id": "7a3bf848",
   "metadata": {},
   "outputs": [],
   "source": [
    "X.head()\n",
    "#to ensure that label encoding happend correctly"
   ]
  },
  {
   "cell_type": "markdown",
   "id": "f3ec29b6",
   "metadata": {},
   "source": [
    "## 5. Normalise the data set"
   ]
  },
  {
   "cell_type": "code",
   "execution_count": null,
   "id": "627b3807",
   "metadata": {},
   "outputs": [],
   "source": [
    "# Create an list with the column labels from X:\n",
    "x_cols = X.columns\n",
    "\n",
    "# Import the MinMaxScaler class.\n",
    "from sklearn.preprocessing import MinMaxScaler \n",
    "\n",
    "# Create the object from ‘MinMaxScaler’.\n",
    "ms = MinMaxScaler() \n",
    "# Modify X to scale values between 0 and 1.\n",
    "X = ms.fit_transform(X) \n",
    "# Set X as equal to a new DataFrame.\n",
    "X = pd.DataFrame(X, columns=[x_cols]) \n",
    "\n",
    "# Check the contents of the modified DataFrame.\n",
    "X.head() \n",
    "#you can the see the difference between the above and below"
   ]
  },
  {
   "cell_type": "markdown",
   "id": "4882162f",
   "metadata": {},
   "source": [
    "## 6. Apply the clustering algorithm"
   ]
  },
  {
   "cell_type": "code",
   "execution_count": null,
   "id": "7fad428a",
   "metadata": {},
   "outputs": [],
   "source": [
    "# [1] Import the KMeans class.\n",
    "from sklearn.cluster import KMeans \n",
    "\n",
    "#apply clustering \n",
    "kmeans = KMeans(n_clusters=2, random_state=0) \n",
    "\n",
    "kmeans.fit(X)"
   ]
  },
  {
   "cell_type": "code",
   "execution_count": null,
   "id": "3020a6ac",
   "metadata": {},
   "outputs": [],
   "source": [
    "kmeans.cluster_centers_"
   ]
  },
  {
   "cell_type": "code",
   "execution_count": null,
   "id": "3b75a783",
   "metadata": {},
   "outputs": [],
   "source": [
    "kmeans.inertia_"
   ]
  },
  {
   "cell_type": "markdown",
   "id": "c56c131c",
   "metadata": {},
   "source": [
    "## 7. Evaluate the output"
   ]
  },
  {
   "cell_type": "code",
   "execution_count": null,
   "id": "0afbb138",
   "metadata": {},
   "outputs": [],
   "source": [
    "#for evaluating our final values\n",
    "labels = kmeans.labels_\n",
    "\n",
    "# check how many of the samples were correctly labeled\n",
    "correct_labels = sum(y == labels)\n",
    "\n",
    "print(\"Result: %d out of %d samples were correctly labeled.\" % (correct_labels, y.size))\n",
    "#very weak classification"
   ]
  },
  {
   "cell_type": "markdown",
   "id": "35c60214",
   "metadata": {},
   "source": [
    "## 8. Improve the accuracy (elbow method)"
   ]
  },
  {
   "cell_type": "code",
   "execution_count": null,
   "id": "e20a926e",
   "metadata": {},
   "outputs": [],
   "source": [
    "#elbow chart for us to decide on the number of optimal clusters\n",
    "cs = []\n",
    "for i in range(1, 11):\n",
    "    kmeans = KMeans(n_clusters = i, init = 'k-means++', max_iter = 300, n_init = 10, random_state = 0)\n",
    "    kmeans.fit(X)\n",
    "    cs.append(kmeans.inertia_)\n",
    "plt.plot(range(1, 11), cs)\n",
    "plt.title('The Elbow Method')\n",
    "plt.xlabel('Number of clusters')\n",
    "plt.ylabel('CS')\n",
    "plt.show()\n",
    "#From the below chart we can take the optimal number as 4 "
   ]
  },
  {
   "cell_type": "code",
   "execution_count": null,
   "id": "c00881e0",
   "metadata": {
    "scrolled": true
   },
   "outputs": [],
   "source": [
    "#for test purpose can evaluate with n=3\n",
    "kmeans = KMeans(n_clusters=3, random_state=0)\n",
    "\n",
    "kmeans.fit(X)\n",
    "\n",
    "# check how many of the samples were correctly labeled\n",
    "labels = kmeans.labels_\n",
    "\n",
    "correct_labels = sum(y == labels)\n",
    "print(\"Result: %d out of %d samples were correctly labeled.\" % (correct_labels, y.size))\n",
    "print('Accuracy score: {0:0.2f}'. format(correct_labels/float(y.size)))\n",
    "#accuracy is still too little"
   ]
  },
  {
   "cell_type": "code",
   "execution_count": null,
   "id": "c6627d82",
   "metadata": {},
   "outputs": [],
   "source": [
    "#for test purpose can evaluate with n=4, play around with number\n",
    "kmeans = KMeans(n_clusters=4, random_state=0)\n",
    "\n",
    "kmeans.fit(X)\n",
    "\n",
    "# check how many of the samples were correctly labeled\n",
    "labels = kmeans.labels_\n",
    "\n",
    "df_ais['labels'] = labels\n",
    "\n",
    "correct_labels = sum(y == labels)\n",
    "print(\"Result: %d out of %d samples were correctly labeled.\" % (correct_labels, y.size))\n",
    "print('Accuracy score: {0:0.2f}'. format(correct_labels/float(y.size)))\n",
    "#accuracy is good it is acceptable "
   ]
  },
  {
   "cell_type": "markdown",
   "id": "67b85b59",
   "metadata": {},
   "source": [
    "## 9. Visualise the clusters"
   ]
  },
  {
   "cell_type": "code",
   "execution_count": null,
   "id": "ac49fced",
   "metadata": {},
   "outputs": [],
   "source": [
    "# compare height, weight and lean body mass\n",
    "fig = plt.figure(figsize=(26, 26))\n",
    "ax = fig.add_subplot(131, projection='3d')\n",
    "                     #, projection='2d')\n",
    "ax.scatter(df_ais['ht'], df_ais['wt'], df_ais['lbm'], c=labels, s=15)\n",
    "ax.set_xlabel('ht')\n",
    "ax.set_ylabel('wt')\n",
    "ax.set_zlabel('lbm')\n",
    "plt.show()"
   ]
  },
  {
   "cell_type": "code",
   "execution_count": null,
   "id": "e503690b",
   "metadata": {},
   "outputs": [],
   "source": [
    "# rec blood cell count, white blood cell count, hemoglobin concentration\n",
    "\n",
    "fig = plt.figure(figsize=(26, 26))\n",
    "ax = fig.add_subplot(131, projection='3d')\n",
    "                     #, projection='2d')\n",
    "ax.scatter(df_ais['rcc'], df_ais['wcc'], df_ais['hg'], c=labels, s=15)\n",
    "ax.set_xlabel('rcc')\n",
    "ax.set_ylabel('wcc')\n",
    "ax.set_zlabel('hg')\n",
    "plt.show()"
   ]
  },
  {
   "cell_type": "code",
   "execution_count": null,
   "id": "cea2d977",
   "metadata": {},
   "outputs": [],
   "source": [
    "# body mass index, height, weight\n",
    "\n",
    "fig = plt.figure(figsize=(26, 26))\n",
    "ax = fig.add_subplot(131, projection='3d')\n",
    "                     #, projection='2d')\n",
    "ax.scatter(df_ais['bmi'], df_ais['ht'], df_ais['wt'], c=labels, s=15)\n",
    "ax.set_xlabel('bmi')\n",
    "ax.set_ylabel('ht')\n",
    "ax.set_zlabel('wt')\n",
    "plt.show()"
   ]
  },
  {
   "cell_type": "code",
   "execution_count": null,
   "id": "8a04583f",
   "metadata": {},
   "outputs": [],
   "source": []
  }
 ],
 "metadata": {
  "kernelspec": {
   "display_name": "Python 3 (ipykernel)",
   "language": "python",
   "name": "python3"
  },
  "language_info": {
   "codemirror_mode": {
    "name": "ipython",
    "version": 3
   },
   "file_extension": ".py",
   "mimetype": "text/x-python",
   "name": "python",
   "nbconvert_exporter": "python",
   "pygments_lexer": "ipython3",
   "version": "3.9.7"
  }
 },
 "nbformat": 4,
 "nbformat_minor": 5
}
